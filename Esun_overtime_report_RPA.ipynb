{
 "cells": [
  {
   "cell_type": "code",
   "execution_count": 1,
   "metadata": {},
   "outputs": [],
   "source": [
    "from selenium import webdriver\n",
    "from selenium.webdriver.chrome.options import Options\n",
    "from selenium.webdriver.common.by import By\n",
    "from selenium.webdriver.support import expected_conditions as EC\n",
    "from selenium.webdriver.support.ui import Select\n",
    "from selenium.webdriver.support.ui import WebDriverWait as wait"
   ]
  },
  {
   "cell_type": "code",
   "execution_count": 2,
   "metadata": {},
   "outputs": [],
   "source": [
    "import time\n",
    "import pandas as pd"
   ]
  },
  {
   "cell_type": "code",
   "execution_count": 3,
   "metadata": {},
   "outputs": [],
   "source": [
    "current_version = \"99\"\n",
    "chrome_options = Options()\n",
    "# chrome_options.add_argument('--headless')\n",
    "# chrome_options.add_argument('--start-maximized')\n",
    "# chromedriver_path = f\"\\\\\\\\eip.esunbank.com.tw@SSL\\DavWWWRoot\\sites\\C010\\DocLib1\\kentsai\\chromedriver\\{current_version}\\chromedriver.exe\"\n",
    "chromedriver_path = r\"C:\\Users\\ESB21313\\[RPA]\\chromedriver.exe\""
   ]
  },
  {
   "cell_type": "code",
   "execution_count": 4,
   "metadata": {},
   "outputs": [
    {
     "name": "stderr",
     "output_type": "stream",
     "text": [
      "<ipython-input-4-0d1ecfb8cc5e>:1: DeprecationWarning: executable_path has been deprecated, please pass in a Service object\n",
      "  driver = webdriver.Chrome(chromedriver_path, options = chrome_options)\n"
     ]
    }
   ],
   "source": [
    "driver = webdriver.Chrome(chromedriver_path, options = chrome_options)\n",
    "driver.get(\"https://hrisweb.esunbank.com.tw:8443/psp/HRISP/EMPLOYEE/HRMS/?cmd=logout\")"
   ]
  },
  {
   "cell_type": "code",
   "execution_count": 5,
   "metadata": {},
   "outputs": [],
   "source": [
    "# 請自行輸入帳密\n",
    "# 至以下畫面"
   ]
  },
  {
   "cell_type": "markdown",
   "metadata": {},
   "source": [
    "![title](./員工自助服務.jpg)"
   ]
  },
  {
   "cell_type": "code",
   "execution_count": 7,
   "metadata": {},
   "outputs": [],
   "source": [
    "# 到員工自助畫面 再執行以下\n",
    "\n",
    "#點選差勤管理\n",
    "driver.find_element(By.XPATH, \"//*[@id='win0divPTNUI_LAND_REC_GROUPLET$1']\").click()"
   ]
  },
  {
   "cell_type": "code",
   "execution_count": 24,
   "metadata": {},
   "outputs": [],
   "source": [
    "#點選 差勤資料\n",
    "time.sleep(0.5)\n",
    "driver.find_element(By.XPATH, \"//*[@id='win4divPTGP_STEP_DVW_PTGP_STEP_BTN_GB$4']\").click()"
   ]
  },
  {
   "cell_type": "code",
   "execution_count": 25,
   "metadata": {},
   "outputs": [],
   "source": [
    "#點選 檢視出勤紀錄\n",
    "time.sleep(0.5)\n",
    "driver.find_element(By.XPATH, \"//*[@id='win4divPTGP_STEP_DVW_PTGP_STEP_BTN_GB$1$$6']\").click()"
   ]
  },
  {
   "cell_type": "markdown",
   "metadata": {},
   "source": [
    "# 如果每個月點的話，應該會顯示當月的出勤紀錄，如下畫面"
   ]
  },
  {
   "cell_type": "markdown",
   "metadata": {},
   "source": [
    "![title](./出勤紀錄.jpg)"
   ]
  },
  {
   "cell_type": "code",
   "execution_count": 26,
   "metadata": {},
   "outputs": [],
   "source": [
    "from selenium.common.exceptions import NoSuchElementException"
   ]
  },
  {
   "cell_type": "code",
   "execution_count": 27,
   "metadata": {},
   "outputs": [],
   "source": [
    "#先進入iframe = =\n",
    "driver.switch_to.frame(\"main_target_win0\")"
   ]
  },
  {
   "cell_type": "code",
   "execution_count": 28,
   "metadata": {
    "scrolled": true
   },
   "outputs": [],
   "source": [
    "#找出時間範圍內所有報公務加班的日期\n",
    "ot_date = []\n",
    "\n",
    "#抓取紅色公務的字 ，即公務未報加班\n",
    "while True:\n",
    "    #選擇該table之元素\n",
    "    ot_table_rows_ele = driver.find_elements(By.XPATH, \"//*[@id='tdgbrAB_ATT_DTL$0']/tbody/tr\")\n",
    "    \n",
    "    for i in ot_table_rows_ele:\n",
    "        cur_row_off_field = i.find_element(By.XPATH, \".//td[10]/div/span\")\n",
    "        if cur_row_off_field.value_of_css_property('color') =='rgba(237, 28, 36, 1)':\n",
    "            ot_date.append(i.find_element(By.XPATH, \".//td[1]/div/span\").text)\n",
    "            \n",
    "    # 按下一頁按鈕，直到不能按為止\n",
    "    try:\n",
    "        driver.find_element(By.XPATH, \"//*[@id='AB_ATT_DTL$hdown$0']\").click()\n",
    "        time.sleep(1)\n",
    "    except NoSuchElementException:\n",
    "        #如果不能按下一頁(即最後一頁)則停止蒐資料\n",
    "        break        "
   ]
  },
  {
   "cell_type": "code",
   "execution_count": 29,
   "metadata": {
    "scrolled": true
   },
   "outputs": [
    {
     "data": {
      "text/plain": [
       "[]"
      ]
     },
     "execution_count": 29,
     "metadata": {},
     "output_type": "execute_result"
    }
   ],
   "source": [
    "ot_date"
   ]
  },
  {
   "cell_type": "code",
   "execution_count": 15,
   "metadata": {},
   "outputs": [],
   "source": [
    "from selenium.webdriver.support.ui import WebDriverWait"
   ]
  },
  {
   "cell_type": "code",
   "execution_count": 16,
   "metadata": {},
   "outputs": [],
   "source": [
    "# start_time_field = driver.execute_script(\"return document.getElementById('Z_GP_OT_DERIV_START_TIME')\")"
   ]
  },
  {
   "cell_type": "code",
   "execution_count": 17,
   "metadata": {},
   "outputs": [],
   "source": [
    "# driver.find_element(By.XPATH, \"//*[@id='Z_GP_OT_DERIV_START_TIME']\").click()"
   ]
  },
  {
   "cell_type": "code",
   "execution_count": 18,
   "metadata": {},
   "outputs": [],
   "source": [
    "for i in ot_date:\n",
    "    # iframe跳脫\n",
    "    driver.switch_to.default_content()\n",
    "\n",
    "    #點選加班申請\n",
    "    driver.find_element(By.XPATH, \"//*[@id='win4divPTGP_STEP_DVW_PTGP_STEP_BTN_GB$2']\").click()\n",
    "    time.sleep(1)\n",
    "\n",
    "    #開始日期\n",
    "    driver.find_element(By.XPATH, \"//*[@id='Z_GP_OT_DERIV_BGN_DT']\").clear()\n",
    "    time.sleep(0.1)\n",
    "    driver.find_element(By.XPATH, \"//*[@id='Z_GP_OT_DERIV_BGN_DT']\").send_keys(i)\n",
    "    #開始時間\n",
    "    #點這邊會載入一些東西 要等一下\n",
    "    driver.find_element(By.XPATH, \"//*[@id='Z_GP_OT_DERIV_START_TIME']\").click()\n",
    "    driver.implicitly_wait(2)\n",
    "    driver.find_element(By.XPATH, \"//*[@id='Z_GP_OT_DERIV_START_TIME']\").send_keys('18:30')\n",
    "    time.sleep(0.1)\n",
    "    #結束日期\n",
    "    driver.find_element(By.XPATH, \"//*[@id='Z_GP_OT_DERIV_END_DT']\").clear()\n",
    "    time.sleep(0.1)\n",
    "    driver.find_element(By.XPATH, \"//*[@id='Z_GP_OT_DERIV_END_DT']\").send_keys(i)\n",
    "    time.sleep(0.1)\n",
    "    # 取得下班時間\n",
    "    off_work_time = driver.find_element(By.XPATH, \"//*[@id='Z_GP_OT_DERIV_AB_PUNCH_DTTM_OUT']\").text\n",
    "    off_time = off_work_time.split()[1]\n",
    "    time.sleep(0.1)\n",
    "    # 結束時間\n",
    "    driver.find_element(By.XPATH, \"//*[@id='Z_GP_OT_DERIV_END_TIME']\").send_keys(off_time)\n",
    "    time.sleep(0.1)\n",
    "    # 加班事由\n",
    "    driver.find_element(By.XPATH, \"//*[@id='Z_GP_OT_DERIV_COMMENTS']\").send_keys(\"RPA開發\")\n",
    "    time.sleep(0.1)\n",
    "    # 點提交\n",
    "    driver.find_element(By.XPATH, \"//*[@id='Z_GP_OT_DERIV_SUBMIT_PB']\").click()\n",
    "    time.sleep(0.1)\n",
    "\n",
    "    #先進入iframe...\n",
    "    iframe = driver.find_element(By.XPATH, \"/html/body/form/div[1]/div[3]/div[2]/div/div/iframe\")\n",
    "    driver.switch_to.frame(iframe)\n",
    "    \n",
    "    # 確定提交\n",
    "    button = WebDriverWait(driver, 10).until(\n",
    "        EC.presence_of_element_located((By.XPATH, \"//*[@id='DERIVED_ABS_SS_YES']\"))\n",
    "    )\n",
    "    button.click()\n",
    "    \n",
    "    time.sleep(1)"
   ]
  },
  {
   "cell_type": "code",
   "execution_count": null,
   "metadata": {},
   "outputs": [],
   "source": []
  },
  {
   "cell_type": "markdown",
   "metadata": {},
   "source": [
    "overtime_div = driver.find_element(By.XPATH, \"//*[@id='l0AB_ATT_DTL$0']\")"
   ]
  },
  {
   "cell_type": "markdown",
   "metadata": {},
   "source": [
    "html = overtime_div.get_attribute(\"outerHTML\")"
   ]
  },
  {
   "cell_type": "markdown",
   "metadata": {},
   "source": [
    "html"
   ]
  },
  {
   "cell_type": "markdown",
   "metadata": {},
   "source": [
    "overtime_dfs = pd.read_html(html)"
   ]
  },
  {
   "cell_type": "markdown",
   "metadata": {},
   "source": [
    "overtime_dfs[0]"
   ]
  },
  {
   "cell_type": "code",
   "execution_count": null,
   "metadata": {},
   "outputs": [],
   "source": []
  }
 ],
 "metadata": {
  "kernelspec": {
   "display_name": "Python 3",
   "language": "python",
   "name": "python3"
  },
  "language_info": {
   "codemirror_mode": {
    "name": "ipython",
    "version": 3
   },
   "file_extension": ".py",
   "mimetype": "text/x-python",
   "name": "python",
   "nbconvert_exporter": "python",
   "pygments_lexer": "ipython3",
   "version": "3.8.3"
  }
 },
 "nbformat": 4,
 "nbformat_minor": 4
}
